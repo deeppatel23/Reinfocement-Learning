{
  "nbformat": 4,
  "nbformat_minor": 0,
  "metadata": {
    "colab": {
      "name": "Automation in games.ipynb",
      "provenance": []
    },
    "kernelspec": {
      "name": "python3",
      "display_name": "Python 3"
    }
  },
  "cells": [
    {
      "cell_type": "code",
      "metadata": {
        "id": "OspILOEHzlav",
        "colab_type": "code",
        "colab": {}
      },
      "source": [
        "import numpy as np\n",
        "import gym\n",
        "import random\n",
        "import time\n",
        "from IPython.display import clear_output"
      ],
      "execution_count": 34,
      "outputs": []
    },
    {
      "cell_type": "code",
      "metadata": {
        "id": "RFdx22vzw8Td",
        "colab_type": "code",
        "colab": {}
      },
      "source": [
        "env = gym.make(\"FrozenLake-v0\")"
      ],
      "execution_count": 35,
      "outputs": []
    },
    {
      "cell_type": "code",
      "metadata": {
        "id": "CmI_1OFpxD4a",
        "colab_type": "code",
        "colab": {
          "base_uri": "https://localhost:8080/",
          "height": 295
        },
        "outputId": "ef4d2233-76e9-4fd3-8bfd-8638fdaf8195"
      },
      "source": [
        "action_space_size = env.action_space.n\n",
        "state_space_size = env.observation_space.n\n",
        "\n",
        "q_table = np.zeros((state_space_size, action_space_size))\n",
        "\n",
        "print(q_table)"
      ],
      "execution_count": 36,
      "outputs": [
        {
          "output_type": "stream",
          "text": [
            "[[0. 0. 0. 0.]\n",
            " [0. 0. 0. 0.]\n",
            " [0. 0. 0. 0.]\n",
            " [0. 0. 0. 0.]\n",
            " [0. 0. 0. 0.]\n",
            " [0. 0. 0. 0.]\n",
            " [0. 0. 0. 0.]\n",
            " [0. 0. 0. 0.]\n",
            " [0. 0. 0. 0.]\n",
            " [0. 0. 0. 0.]\n",
            " [0. 0. 0. 0.]\n",
            " [0. 0. 0. 0.]\n",
            " [0. 0. 0. 0.]\n",
            " [0. 0. 0. 0.]\n",
            " [0. 0. 0. 0.]\n",
            " [0. 0. 0. 0.]]\n"
          ],
          "name": "stdout"
        }
      ]
    },
    {
      "cell_type": "code",
      "metadata": {
        "id": "qcSojCPYxJ3p",
        "colab_type": "code",
        "colab": {}
      },
      "source": [
        "num_episodes = 10000\n",
        "max_steps_per_episode = 100\n",
        "\n",
        "learning_rate = 0.1\n",
        "discount_rate = 0.99\n",
        "\n",
        "exploration_rate = 1\n",
        "max_exploration_rate = 1\n",
        "min_exploration_rate = 0.01\n",
        "exploration_decay_rate = 0.001"
      ],
      "execution_count": 40,
      "outputs": []
    },
    {
      "cell_type": "code",
      "metadata": {
        "id": "CoEQ-QxrxNt7",
        "colab_type": "code",
        "colab": {}
      },
      "source": [
        "rewards_all_episodes = []\n",
        "# Q-learning algorithm\n",
        "for episode in range(num_episodes):\n",
        "    # initialize new episode params\n",
        "    state = env.reset()\n",
        "\n",
        "    #done to abalyze whether the episode is finished or not\n",
        "    done = False\n",
        "    rewards_current_episode = 0\n",
        "\n",
        "    for step in range(max_steps_per_episode): \n",
        "        # Exploration-exploitation trade-off\n",
        "        exploration_rate_threshold = random.uniform(0, 1)\n",
        "        if exploration_rate_threshold > exploration_rate:\n",
        "          action = np.argmax(q_table[state, :])\n",
        "        else :\n",
        "          action = env.action_space.sample()\n",
        "\n",
        "        # Take new action\n",
        "        new_state, reward, done, info = env.step(action)\n",
        "\n",
        "        # Update Q-table for Q(s,a)\n",
        "        q_table[state, action] = q_table[state, action] * (1 - learning_rate) + \\\n",
        "            learning_rate * (reward + discount_rate * np.max(q_table[new_state, :]))\n",
        "\n",
        "        # Set new state\n",
        "        state = new_state\n",
        "    \n",
        "        # Add new reward\n",
        "        rewards_current_episode += reward\n",
        "\n",
        "        if done == True:\n",
        "          break\n",
        "        \n",
        "\n",
        "    # Exploration rate decay \n",
        "    exploration_rate = min_exploration_rate + \\\n",
        "        (max_exploration_rate - min_exploration_rate) * np.exp(-exploration_decay_rate*episode)\n",
        "\n",
        "    # Add current episode reward to total rewards list\n",
        "    rewards_all_episodes.append(rewards_current_episode)\n",
        "  "
      ],
      "execution_count": 41,
      "outputs": []
    },
    {
      "cell_type": "code",
      "metadata": {
        "id": "Vv0gk4cz1_pH",
        "colab_type": "code",
        "colab": {
          "base_uri": "https://localhost:8080/",
          "height": 225
        },
        "outputId": "14c1cc67-3da5-47b2-b661-f9532242cccc"
      },
      "source": [
        "# Calculate and print the average reward per thousand episodes\n",
        "rewards_per_thousand_episodes = np.split(np.array(rewards_all_episodes),num_episodes/1000)\n",
        "count = 1000\n",
        "\n",
        "print(\"********Average reward per thousand episodes********\\n\")\n",
        "for r in rewards_per_thousand_episodes:\n",
        "    print(count, \": \", str(sum(r/1000)))\n",
        "    count += 1000"
      ],
      "execution_count": 42,
      "outputs": [
        {
          "output_type": "stream",
          "text": [
            "********Average reward per thousand episodes********\n",
            "\n",
            "1000 :  0.04900000000000004\n",
            "2000 :  0.22400000000000017\n",
            "3000 :  0.4140000000000003\n",
            "4000 :  0.5730000000000004\n",
            "5000 :  0.6370000000000005\n",
            "6000 :  0.6440000000000005\n",
            "7000 :  0.6610000000000005\n",
            "8000 :  0.6570000000000005\n",
            "9000 :  0.6730000000000005\n",
            "10000 :  0.6820000000000005\n"
          ],
          "name": "stdout"
        }
      ]
    },
    {
      "cell_type": "code",
      "metadata": {
        "id": "qHT1n34i2Xl9",
        "colab_type": "code",
        "colab": {
          "base_uri": "https://localhost:8080/",
          "height": 364
        },
        "outputId": "7cbc4d81-b25b-4dee-a4b4-16b0574bb990"
      },
      "source": [
        "# Print updated Q-table\n",
        "print(\"\\n\\n********Q-table********\\n\")\n",
        "print(q_table)"
      ],
      "execution_count": 43,
      "outputs": [
        {
          "output_type": "stream",
          "text": [
            "\n",
            "\n",
            "********Q-table********\n",
            "\n",
            "[[0.51538254 0.51473006 0.5158112  0.50987906]\n",
            " [0.27348508 0.35149986 0.39493217 0.49438336]\n",
            " [0.41059241 0.38518884 0.39473608 0.4661929 ]\n",
            " [0.31608565 0.40165061 0.27945108 0.44960827]\n",
            " [0.52304606 0.34433943 0.45116043 0.3963694 ]\n",
            " [0.         0.         0.         0.        ]\n",
            " [0.30469951 0.10409796 0.21665121 0.07709121]\n",
            " [0.         0.         0.         0.        ]\n",
            " [0.45140918 0.52924011 0.30195153 0.54531047]\n",
            " [0.50167405 0.57744216 0.29879157 0.34701761]\n",
            " [0.50709171 0.24873372 0.31015732 0.45772902]\n",
            " [0.         0.         0.         0.        ]\n",
            " [0.         0.         0.         0.        ]\n",
            " [0.41779571 0.45055715 0.69448629 0.52700539]\n",
            " [0.71586913 0.82723565 0.72575295 0.72695704]\n",
            " [0.         0.         0.         0.        ]]\n"
          ],
          "name": "stdout"
        }
      ]
    },
    {
      "cell_type": "code",
      "metadata": {
        "id": "hvpYLp2k2bJS",
        "colab_type": "code",
        "colab": {
          "base_uri": "https://localhost:8080/",
          "height": 139
        },
        "outputId": "3de3c749-24c4-4887-f38f-c2fcf82cbc25"
      },
      "source": [
        "# Watch our agent play Frozen Lake by playing the best action \n",
        "# from each state according to the Q-table\n",
        "score = 0 \n",
        "for episode in range(3):\n",
        "    # initialize new episode params\n",
        "    state = env.reset()\n",
        "    done = False\n",
        "    print(\"*****EPISODE \", episode+1, \"*****\\n\\n\\n\\n\")\n",
        "    time.sleep(1)\n",
        "\n",
        "    for step in range(max_steps_per_episode):        \n",
        "        # Show current state of environment on screen\n",
        "        clear_output(wait=True)\n",
        "        env.render()\n",
        "        time.sleep(0.3)\n",
        "\n",
        "        # Choose action with highest Q-value for current state\n",
        "        action = np.argmax(q_table[state,:])       \n",
        "        # Take new action\n",
        "        new_state, reward, done, info = env.step(action)\n",
        "\n",
        "        if done:\n",
        "          clear_output(wait=True)\n",
        "          env.render()\n",
        "          if reward == 1:\n",
        "              score += 1\n",
        "              print(\"****You reached the goal!****\")\n",
        "              time.sleep(3)\n",
        "          else:\n",
        "              print(\"****You fell through a hole!****\")\n",
        "              time.sleep(3)\n",
        "              clear_output(wait=True)\n",
        "          break            \n",
        "\n",
        "        # Set new state\n",
        "        state = new_state\n",
        "\n",
        "env.close()\n",
        "print(\"Your score is : \",score,\"/ 3\")"
      ],
      "execution_count": 47,
      "outputs": [
        {
          "output_type": "stream",
          "text": [
            "  (Down)\n",
            "SFFF\n",
            "FHFH\n",
            "FFFH\n",
            "HFF\u001b[41mG\u001b[0m\n",
            "****You reached the goal!****\n",
            "Your score is :  2 / 3\n"
          ],
          "name": "stdout"
        }
      ]
    }
  ]
}